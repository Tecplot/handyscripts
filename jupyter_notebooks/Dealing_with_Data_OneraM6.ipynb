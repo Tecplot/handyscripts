{
 "cells": [
  {
   "cell_type": "markdown",
   "id": "4d93ee59",
   "metadata": {},
   "source": [
    "# Dealing with Data\n",
    "This Notebook will show how to load data via PyTecplot and extract useful information about the data.  You'll learn the basics of loading data and data access."
   ]
  },
  {
   "cell_type": "code",
   "execution_count": 1,
   "id": "aa252d07",
   "metadata": {},
   "outputs": [
    {
     "name": "stdout",
     "output_type": "stream",
     "text": [
      "Connecting to Tecplot 360 TecUtil Server on:\n",
      "    tcp://localhost:7600\n",
      "Connection established.\n"
     ]
    }
   ],
   "source": [
    "import tecplot as tp\n",
    "tp.session.connect(port=7600) # Connect to a live Tecplot 360 session\n",
    "tp.new_layout() # Make sure we're starting from scratch"
   ]
  },
  {
   "cell_type": "markdown",
   "id": "4b469b6c",
   "metadata": {},
   "source": [
    "## Loading Data\n",
    "Tecplot 360 and therefore PyTecplot have many data loaders, available under the tecplot.data namespace.  Here we use 'load_tecplot' to load the data."
   ]
  },
  {
   "cell_type": "code",
   "execution_count": 2,
   "id": "752f8c19",
   "metadata": {},
   "outputs": [],
   "source": [
    "import os\n",
    "examples_dir = tp.session.tecplot_examples_directory()\n",
    "datafile = os.path.join(examples_dir, 'OneraM6wing', 'OneraM6_SU2_RANS.plt')\n",
    "ds = tp.data.load_tecplot(datafile)"
   ]
  },
  {
   "cell_type": "markdown",
   "id": "898bbcbe",
   "metadata": {},
   "source": [
    "## The Dataset\n",
    "Each dataset in Tecplot 360 is contained within a Frame. The dataset contains all the data available for plotting an analysis.  Access the dataset via a Frame object."
   ]
  },
  {
   "cell_type": "code",
   "execution_count": 3,
   "id": "025271eb",
   "metadata": {},
   "outputs": [],
   "source": [
    "ds = tp.active_frame().dataset # Get a handle to the dataset"
   ]
  },
  {
   "cell_type": "code",
   "execution_count": 4,
   "id": "f49ad3f5",
   "metadata": {},
   "outputs": [
    {
     "name": "stdout",
     "output_type": "stream",
     "text": [
      "Dataset: 'Visualization of the volumetric solution | Visualization of the surface solution'\n",
      "  Zones: 'FluidVolume', 'WingSurface'\n",
      "  Variables: 'x', 'y', 'z', 'Density', 'Momentum U (Density*U)',\n",
      "    'Momentum V (Density*V)', 'Momentum W (Density*W)', 'Energy (Density*E)',\n",
      "    'SA Turbulent Eddy Viscosity', 'Pressure', 'Temperature',\n",
      "    'Pressure_Coefficient', 'Mach', 'Laminar_Viscosity',\n",
      "    'Skin_Friction_Coefficient', 'Heat_Flux', 'Y_Plus', 'Eddy_Viscosity'\n"
     ]
    }
   ],
   "source": [
    "print(ds) # Print basic information about the dataset"
   ]
  },
  {
   "cell_type": "code",
   "execution_count": 5,
   "id": "68f9d16d",
   "metadata": {},
   "outputs": [
    {
     "data": {
      "text/plain": [
       "2"
      ]
     },
     "execution_count": 5,
     "metadata": {},
     "output_type": "execute_result"
    }
   ],
   "source": [
    "# Get the number of zones\n",
    "ds.num_zones"
   ]
  },
  {
   "cell_type": "code",
   "execution_count": 6,
   "id": "6e326706",
   "metadata": {},
   "outputs": [
    {
     "data": {
      "text/plain": [
       "18"
      ]
     },
     "execution_count": 6,
     "metadata": {},
     "output_type": "execute_result"
    }
   ],
   "source": [
    "# Get the number of variables\n",
    "ds.num_variables"
   ]
  },
  {
   "cell_type": "code",
   "execution_count": 7,
   "id": "4df11f67",
   "metadata": {},
   "outputs": [
    {
     "data": {
      "text/plain": [
       "[]"
      ]
     },
     "execution_count": 7,
     "metadata": {},
     "output_type": "execute_result"
    }
   ],
   "source": [
    "# Get the list of solution times\n",
    "# This produces an empty list, since this is a steady state solution\n",
    "ds.solution_times"
   ]
  },
  {
   "cell_type": "code",
   "execution_count": 8,
   "id": "032bc911",
   "metadata": {},
   "outputs": [
    {
     "name": "stdout",
     "output_type": "stream",
     "text": [
      "Name: FluidVolume\n",
      "  Type: ZoneType.FEBrick\n",
      "  Time: 0.0\n",
      "  Num Points: 46417\n",
      "  Num Cells: 43008\n",
      "Name: WingSurface\n",
      "  Type: ZoneType.FEQuad\n",
      "  Time: 0.0\n",
      "  Num Points: 1453\n",
      "  Num Cells: 1408\n"
     ]
    }
   ],
   "source": [
    "# Print basic information about each zone\n",
    "for z in ds.zones():\n",
    "    print(\"Name:\", z.name)\n",
    "    print(\"  Type:\", z.zone_type)\n",
    "    print(\"  Time:\", z.solution_time)\n",
    "    print(\"  Num Points:\", z.num_points)\n",
    "    print(\"  Num Cells:\", z.num_elements)"
   ]
  },
  {
   "cell_type": "code",
   "execution_count": 9,
   "id": "75d115d7",
   "metadata": {},
   "outputs": [
    {
     "name": "stdout",
     "output_type": "stream",
     "text": [
      "Name: x\n",
      "  Index: 0\n",
      "  Min: -6.447196007\n",
      "  Max: 5.64129591\n",
      "Name: y\n",
      "  Index: 1\n",
      "  Min: 0.0\n",
      "  Max: 7.643424988\n",
      "Name: z\n",
      "  Index: 2\n",
      "  Min: -6.447196007\n",
      "  Max: 6.447196007\n",
      "Name: Density\n",
      "  Index: 3\n",
      "  Min: 0.3709256053\n",
      "  Max: 1.861387014\n",
      "Name: Momentum U (Density*U)\n",
      "  Index: 4\n",
      "  Min: -23.51499939\n",
      "  Max: 382.894989\n",
      "Name: Momentum V (Density*V)\n",
      "  Index: 5\n",
      "  Min: -106.4394989\n",
      "  Max: 277.6286926\n",
      "Name: Momentum W (Density*W)\n",
      "  Index: 6\n",
      "  Min: -152.3856049\n",
      "  Max: 220.5104065\n",
      "Name: Energy (Density*E)\n",
      "  Index: 7\n",
      "  Min: 84192.75\n",
      "  Max: 392579.4063\n",
      "Name: SA Turbulent Eddy Viscosity\n",
      "  Index: 8\n",
      "  Min: 1.000000013e-10\n",
      "  Max: 0.03884270042\n",
      "Name: Pressure\n",
      "  Index: 9\n",
      "  Min: 33677.10156\n",
      "  Max: 146757.0938\n",
      "Name: Temperature\n",
      "  Index: 10\n",
      "  Min: 221.1672974\n",
      "  Max: 464.5385132\n",
      "Name: Pressure_Coefficient\n",
      "  Index: 11\n",
      "  Min: -1.300665975\n",
      "  Max: 1.138303995\n",
      "Name: Mach\n",
      "  Index: 12\n",
      "  Min: 0.0\n",
      "  Max: 1.575580001\n",
      "Name: Laminar_Viscosity\n",
      "  Index: 13\n",
      "  Min: 1.446262013e-05\n",
      "  Max: 2.538917943e-05\n",
      "Name: Skin_Friction_Coefficient\n",
      "  Index: 14\n",
      "  Min: 0.0\n",
      "  Max: 0.0051891529\n",
      "Name: Heat_Flux\n",
      "  Index: 15\n",
      "  Min: -731604.0\n",
      "  Max: 433404.6875\n",
      "Name: Y_Plus\n",
      "  Index: 16\n",
      "  Min: 0.0\n",
      "  Max: 1490.171021\n",
      "Name: Eddy_Viscosity\n",
      "  Index: 17\n",
      "  Min: 7.449537932e-31\n",
      "  Max: 0.0429337509\n"
     ]
    }
   ],
   "source": [
    "# Print basic information about each variable\n",
    "for v in ds.variables():\n",
    "    print(\"Name:\", v.name)\n",
    "    print(\"  Index:\", v.index)\n",
    "    print(\"  Min:\", v.min())\n",
    "    print(\"  Max:\", v.max())"
   ]
  },
  {
   "cell_type": "markdown",
   "id": "05162daa",
   "metadata": {},
   "source": [
    "### Use indices, names, and wildcards to select a subset of the zones/variables"
   ]
  },
  {
   "cell_type": "code",
   "execution_count": 10,
   "id": "5ff76950",
   "metadata": {},
   "outputs": [
    {
     "data": {
      "text/plain": [
       "<generator object Dataset.variables at 0x0000020927308120>"
      ]
     },
     "execution_count": 10,
     "metadata": {},
     "output_type": "execute_result"
    }
   ],
   "source": [
    "ds.zone(0) # Zero-based. Gets the 1st zone in the dataset.\n",
    "ds.zone(\"FluidVolume\") # Get the first zone named \"FluidVolume\"\n",
    "ds.zones(\"*u*\") # Get all the zones containing the letter 'u'\n",
    "\n",
    "ds.variable(3) # Zero-based. Gets the 4th variable in the dataset\n",
    "ds.variable(\"Momentum*\") # Get the first variable that starts with \"Momentum\"\n",
    "ds.variables(\"Momentum*\") # Get all the \"Momentum\" variables"
   ]
  },
  {
   "cell_type": "markdown",
   "id": "af20b87b",
   "metadata": {},
   "source": [
    "## Accessing Zone Data\n",
    "The Zone is the basic building block of data in Tecplot 360. Zones can be of many different types (Structured, Unstructured, Polyhedral).  Variable data may also be stored at the nodes or cell centers for each zone/variable pair. That said, accessing the raw variable data is the same for all zone types. "
   ]
  },
  {
   "cell_type": "code",
   "execution_count": 11,
   "id": "5ab35e8f",
   "metadata": {},
   "outputs": [
    {
     "name": "stdout",
     "output_type": "stream",
     "text": [
      "<Array object at 0x00000209272F6CC0>\n",
      "FieldDataType.Float\n",
      "ValueLocation.Nodal\n",
      "(46417,)\n",
      "(221.1672974, 464.5385132)\n"
     ]
    }
   ],
   "source": [
    "zone = ds.zone(\"Fluid*\")\n",
    "var = ds.variable(\"Temperature\")\n",
    "\n",
    "values = zone.values(var)\n",
    "# values is a Tecplot array object. From this you can get various information\n",
    "# about this Zone/Variable pair\n",
    "print(values)\n",
    "print(values.data_type)\n",
    "print(values.location)\n",
    "print(values.shape)\n",
    "print(values.minmax())"
   ]
  },
  {
   "cell_type": "code",
   "execution_count": 12,
   "id": "31747b49",
   "metadata": {},
   "outputs": [
    {
     "name": "stdout",
     "output_type": "stream",
     "text": [
      "[328.666  327.6085 327.1082 ... 288.1656 288.1629 288.1625]\n"
     ]
    }
   ],
   "source": [
    "# It's best to get values using [:] or 'as_numpy_array'\n",
    "fast_vals = values[:]\n",
    "fast_vals = values.as_numpy_array() # This does the same as the line above\n",
    "print(fast_vals)"
   ]
  },
  {
   "cell_type": "markdown",
   "id": "84f8dcf1",
   "metadata": {},
   "source": [
    "## Modifying Data\n",
    "PyTecplot can be used to access and modify the raw data in the dataset.  We can also compute new values and add them to the dataset."
   ]
  },
  {
   "cell_type": "code",
   "execution_count": 13,
   "id": "d1596dd6",
   "metadata": {},
   "outputs": [],
   "source": [
    "# Prefer using Tecplot equations - this executes the equation within 360 and is multi-threaded\n",
    "tp.data.operate.execute_equation(\"{Temperature} = {Temperature} * 10\")"
   ]
  },
  {
   "cell_type": "code",
   "execution_count": 14,
   "id": "e58eeeda",
   "metadata": {},
   "outputs": [],
   "source": [
    "for z in ds.zones():\n",
    "    ft_array = z.values(\"Temperature\")\n",
    "    vals = ft_array[:]\n",
    "    vals /= 10\n",
    "    ft_array[:] = vals"
   ]
  },
  {
   "cell_type": "code",
   "execution_count": 15,
   "id": "f6341e90",
   "metadata": {},
   "outputs": [],
   "source": [
    "import numpy as np\n",
    "for zone in ds.zones():\n",
    "    values = zone.values(\"Temperature\")[:]\n",
    "    avg = np.average(values)\n",
    "    zone.aux_data[\"AvgTemp\"] = avg"
   ]
  },
  {
   "cell_type": "code",
   "execution_count": 16,
   "id": "823e7aeb",
   "metadata": {},
   "outputs": [
    {
     "data": {
      "text/plain": [
       "<tecplot.annotation.text.Text at 0x2093d691240>"
      ]
     },
     "execution_count": 16,
     "metadata": {},
     "output_type": "execute_result"
    }
   ],
   "source": [
    "tp.active_frame().add_text(\"Average Fluid Temp: &(AUXZONE[ActiveOffset=1]:AvgTemp)\", position=(5,95))\n",
    "tp.active_frame().add_text(\"Average Wing Temp: &(AUXZONE[ActiveOffset=2]:AvgTemp)\", position=(5,92))"
   ]
  }
 ],
 "metadata": {
  "kernelspec": {
   "display_name": "Python 3 (ipykernel)",
   "language": "python",
   "name": "python3"
  },
  "language_info": {
   "codemirror_mode": {
    "name": "ipython",
    "version": 3
   },
   "file_extension": ".py",
   "mimetype": "text/x-python",
   "name": "python",
   "nbconvert_exporter": "python",
   "pygments_lexer": "ipython3",
   "version": "3.10.11"
  }
 },
 "nbformat": 4,
 "nbformat_minor": 5
}
